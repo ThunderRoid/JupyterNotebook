{
 "cells": [
  {
   "cell_type": "markdown",
   "metadata": {},
   "source": [
    "# What have I learned this semester with ML and Kaggle"
   ]
  },
  {
   "cell_type": "markdown",
   "metadata": {},
   "source": [
    "## I have learned a lot"
   ]
  },
  {
   "cell_type": "markdown",
   "metadata": {},
   "source": [
    "### Lets explore some"
   ]
  },
  {
   "cell_type": "markdown",
   "metadata": {},
   "source": [
    "First of all, I have learnt about JupyterNotebook, and how to use it. Previously I have never heard of JupyterNotebook before, which is odd as it one of the best tools I have ever used. It is a must have tool for Python users. Not only it supports Python 2.7 but also the latest 3.4, which is awesome. I don't like the idea of Python not having backward combability within its versions, but no worries on that with JupyterNotebook. Importing, analyzing and visualizing of data has never been much easier. It can all be done with a few lines of code. I was also surprised to see that GitHub by default supports displaying JupyterNotebook, which is a very rare feature and much appreciated. I love JupyterNotebook."
   ]
  },
  {
   "cell_type": "markdown",
   "metadata": {},
   "source": [
    "Second, I learned about Classifiers, Regression and others. I learned what they are and how they work. It would have been much fun to build our own Classifiers, but I think that might be a little overkill for a bachelors degree, probably we can do in Masters. Writer our own Classifiers, document it, write a paper on it, get published etc. Previously I never had any hands-on experience with any Classifiers, but now I know how to use then and what they do. One suitable definition could be that a Classifier is a supervised learning approach in which the computer program learns from the data input given to it and then uses this learning to classify new observation. This is fun."
   ]
  },
  {
   "cell_type": "markdown",
   "metadata": {},
   "source": [
    "Then, I have also learned about Dimensionality Reduction, Neural Networks, Precision and Recall, Decision Trees etc. To name then all would fill up this notebook. But these things that I have learned are all new to me, and I enjoyed learning each and every one of them. We also got introduced with Google TensorFlow (An open source machine learning framework for everyone), which is super cool. Because of Google now we have Machine Learning in JavaScript (with TensorFlow.js). Not only it is used for high performance numerical computation. Its flexible architecture allows easy deployment of computation across a variety of platforms (CPUs, GPUs, TPUs), and from desktops to clusters of servers to mobile devices."
   ]
  },
  {
   "cell_type": "markdown",
   "metadata": {},
   "source": [
    "Last but not least, we learned about Kaggle (it is a platform for predictive modelling and analytics competitions in which statisticians and data miners compete to produce the best models for predicting and describing the datasets uploaded by companies and users). It is such an awesome too to have for people who are interested in Machine Learning. Not only it supports hosting your own Kernels but companies an organization can also create competitions for user so love Machine Learning. And winning one of those computation means winning big bucks which is super fun. Participating in one of the computations will give you an idea of what the world of Machine Learning looks like, where do you compare to other people around the world and etc. It also comes with hosting your own dataset which means it is a complete package, all in one together. It is one of the best tools and I would suggest everyone who is interested either in AI or machine learning to take a look at this."
   ]
  },
  {
   "cell_type": "code",
   "execution_count": 3,
   "metadata": {},
   "outputs": [
    {
     "name": "stdout",
     "output_type": "stream",
     "text": [
      "Finally, thank you Dr. Ruby for this awesome semester in the world of Machine Learning.\n"
     ]
    }
   ],
   "source": [
    "strMessage = \"Finally, thank you Dr. Ruby for this awesome semester in the world of Machine Learning.\"\n",
    "print(strMessage)"
   ]
  }
 ],
 "metadata": {
  "kernelspec": {
   "display_name": "Python 3",
   "language": "python",
   "name": "python3"
  },
  "language_info": {
   "codemirror_mode": {
    "name": "ipython",
    "version": 3
   },
   "file_extension": ".py",
   "mimetype": "text/x-python",
   "name": "python",
   "nbconvert_exporter": "python",
   "pygments_lexer": "ipython3",
   "version": "3.6.5"
  }
 },
 "nbformat": 4,
 "nbformat_minor": 2
}
