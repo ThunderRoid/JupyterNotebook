{
 "cells": [
  {
   "cell_type": "code",
   "execution_count": 1,
   "metadata": {
    "collapsed": true
   },
   "outputs": [],
   "source": [
    "# To support both python 2 and python 3\n",
    "from __future__ import division, print_function, unicode_literals\n",
    "\n",
    "import math"
   ]
  },
  {
   "cell_type": "code",
   "execution_count": 24,
   "metadata": {},
   "outputs": [
    {
     "name": "stdout",
     "output_type": "stream",
     "text": [
      "223.94000000000005\n"
     ]
    }
   ],
   "source": [
    "Initial = [ 10, 20 ]\n",
    "L = [ 1.56, 1.55, 0.88, 1.95, 0.25, 1.07, 2.28, 0.76,  2.89, 1.61, 2.84, 0.36, 0.51, 2.78, 0.05, 1.60, 2.65, 2.43, 2.82, 1.77, 3.75, 9.51, 7.32, 5.99, 0.58, 8.66, 6.01, 7.08, 0.21, 9.70, 8.32, 2.12, 3.04, 5.25, 4.32, 2.91, 6.12, 1.39, 2.92, 3.66, 4.56, 7.85, 2.00 , 5.14, 5.92, 0.46, 6.08, 1.71, 0.65, 9.49, 9.66, 8.08, 3.05, 0.98, 6.84, 4.40, 1.22, 4.95, 0.34, 9.09]\n",
    "print (sum(L))"
   ]
  },
  {
   "cell_type": "code",
   "execution_count": 27,
   "metadata": {},
   "outputs": [
    {
     "name": "stdout",
     "output_type": "stream",
     "text": [
      "0.9340805883250715\n"
     ]
    }
   ],
   "source": [
    "Fi = [f/sum(L) for f in L]\n",
    "Gini = sum([f*(1-f) for f in Fi])\n",
    "print (Gini)"
   ]
  },
  {
   "cell_type": "code",
   "execution_count": 28,
   "metadata": {},
   "outputs": [
    {
     "name": "stdout",
     "output_type": "stream",
     "text": [
      "4.046637135816514\n"
     ]
    }
   ],
   "source": [
    "Fi = [f/sum(L) for f in L]\n",
    "print ( sum([-1*f*math.log(f,2) for f in Fi]) )"
   ]
  },
  {
   "cell_type": "code",
   "execution_count": 29,
   "metadata": {},
   "outputs": [
    {
     "name": "stdout",
     "output_type": "stream",
     "text": [
      "36127\n",
      "0.8804541791208823\n"
     ]
    }
   ],
   "source": [
    "Left = [5013, 541, 4435, 1153, 5006, 2965, 4393, 5342, 2795, 4484]\n",
    "print (sum(Left))\n",
    "Fi = [f/sum(Left) for f in Left]\n",
    "LeftGini = sum([f*(1-f) for f in Fi])\n",
    "print (LeftGini)"
   ]
  },
  {
   "cell_type": "code",
   "execution_count": 30,
   "metadata": {},
   "outputs": [
    {
     "name": "stdout",
     "output_type": "stream",
     "text": [
      "19783\n",
      "0.8224073741673256\n"
     ]
    }
   ],
   "source": [
    "Right = [451, 5755, 1155, 4554, 490, 2062, 1076, 475, 2639, 1126]\n",
    "print (sum(Right))\n",
    "Fi = [f/sum(Right) for f in Right]\n",
    "RightGini = sum([f*(1-f) for f in Fi])\n",
    "print (RightGini)"
   ]
  },
  {
   "cell_type": "code",
   "execution_count": 31,
   "metadata": {},
   "outputs": [
    {
     "name": "stdout",
     "output_type": "stream",
     "text": [
      "1474.328525368056\n",
      "Information Gain =  -1473.394444779731\n",
      "0.9340805883250715\n"
     ]
    }
   ],
   "source": [
    "SplitGini = LeftGini*(sum(Left)/sum(L))+RightGini*(sum(Right)/sum(L))\n",
    "print (SplitGini)\n",
    "print (\"Information Gain = \", Gini - SplitGini)\n",
    "print (Gini)"
   ]
  },
  {
   "cell_type": "code",
   "execution_count": null,
   "metadata": {
    "collapsed": true
   },
   "outputs": [],
   "source": []
  }
 ],
 "metadata": {
  "kernelspec": {
   "display_name": "Python 3",
   "language": "python",
   "name": "python3"
  },
  "language_info": {
   "codemirror_mode": {
    "name": "ipython",
    "version": 3
   },
   "file_extension": ".py",
   "mimetype": "text/x-python",
   "name": "python",
   "nbconvert_exporter": "python",
   "pygments_lexer": "ipython3",
   "version": "3.6.3"
  }
 },
 "nbformat": 4,
 "nbformat_minor": 2
}
